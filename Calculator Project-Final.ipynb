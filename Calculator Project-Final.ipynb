{
 "cells": [
  {
   "cell_type": "code",
   "execution_count": 1,
   "id": "c54005aa",
   "metadata": {},
   "outputs": [],
   "source": [
    "from tkinter import *"
   ]
  },
  {
   "cell_type": "code",
   "execution_count": 2,
   "id": "375894f1",
   "metadata": {},
   "outputs": [],
   "source": [
    "root = Tk()"
   ]
  },
  {
   "cell_type": "code",
   "execution_count": 3,
   "id": "df59c4e3",
   "metadata": {},
   "outputs": [],
   "source": [
    "#Text input area"
   ]
  },
  {
   "cell_type": "code",
   "execution_count": 4,
   "id": "5d24b439",
   "metadata": {},
   "outputs": [],
   "source": [
    "e=Entry(root,width=35,borderwidth=5)"
   ]
  },
  {
   "cell_type": "code",
   "execution_count": 5,
   "id": "906d3669",
   "metadata": {},
   "outputs": [],
   "source": [
    "e.grid(row=0,column=0,columnspan=3,padx=30)"
   ]
  },
  {
   "cell_type": "code",
   "execution_count": null,
   "id": "98800460",
   "metadata": {},
   "outputs": [],
   "source": []
  },
  {
   "cell_type": "code",
   "execution_count": 6,
   "id": "4e50e106",
   "metadata": {},
   "outputs": [],
   "source": [
    "list_of_numbers=[]"
   ]
  },
  {
   "cell_type": "code",
   "execution_count": 7,
   "id": "185b5628",
   "metadata": {},
   "outputs": [],
   "source": [
    "#function to get numbers"
   ]
  },
  {
   "cell_type": "code",
   "execution_count": 8,
   "id": "b8aa223a",
   "metadata": {},
   "outputs": [],
   "source": [
    "def number_input(number):\n",
    "    current_value=e.get()\n",
    "    e.delete(0,END)\n",
    "    e.insert(0,str(current_value)+str(number))"
   ]
  },
  {
   "cell_type": "code",
   "execution_count": 9,
   "id": "4a8050e5",
   "metadata": {},
   "outputs": [],
   "source": [
    "def clear_values():\n",
    "    list_of_numbers.clear()\n",
    "    e.delete(0,END)"
   ]
  },
  {
   "cell_type": "code",
   "execution_count": null,
   "id": "00db3b82",
   "metadata": {},
   "outputs": [],
   "source": []
  },
  {
   "cell_type": "code",
   "execution_count": 10,
   "id": "361decb3",
   "metadata": {},
   "outputs": [],
   "source": [
    "def sum_of_values():\n",
    "    num1=e.get()\n",
    "    list_of_numbers.append(num1)\n",
    "    e.delete(0,END)"
   ]
  },
  {
   "cell_type": "code",
   "execution_count": null,
   "id": "cbaf3a4e",
   "metadata": {},
   "outputs": [],
   "source": []
  },
  {
   "cell_type": "code",
   "execution_count": 11,
   "id": "f8e18c0c",
   "metadata": {},
   "outputs": [],
   "source": [
    "def equals():\n",
    "    num1=e.get()\n",
    "    list_of_numbers.append(int(num1))\n",
    "    e.delete(0,END)\n",
    "    \n",
    "    SUM=0\n",
    "    for values in list_of_numbers:\n",
    "        SUM += int(values)\n",
    "        \n",
    "    e.insert(0,str(SUM))"
   ]
  },
  {
   "cell_type": "code",
   "execution_count": 12,
   "id": "b1fa6c5d",
   "metadata": {},
   "outputs": [],
   "source": [
    "#buttons 9-0,add buttn, clear, equals"
   ]
  },
  {
   "cell_type": "code",
   "execution_count": null,
   "id": "eb3c5ed8",
   "metadata": {},
   "outputs": [],
   "source": []
  },
  {
   "cell_type": "code",
   "execution_count": 13,
   "id": "6cb49735",
   "metadata": {},
   "outputs": [],
   "source": [
    "buttn9 = Button(root,text=\"9\" ,padx=40,pady=20,command=lambda : number_input(9)).grid(row=1, column=0 )"
   ]
  },
  {
   "cell_type": "code",
   "execution_count": 14,
   "id": "c7912efb",
   "metadata": {},
   "outputs": [],
   "source": [
    "buttn8= Button(root,text=\"8\" ,padx=40,pady=20,command=lambda : number_input(8)).grid(row=1, column=1 )"
   ]
  },
  {
   "cell_type": "code",
   "execution_count": 15,
   "id": "c5621d30",
   "metadata": {},
   "outputs": [],
   "source": [
    "buttn7= Button(root,text=\"7\" ,padx=40,pady=20,command=lambda : number_input(7)).grid(row=1, column= 2)"
   ]
  },
  {
   "cell_type": "code",
   "execution_count": null,
   "id": "e8503d8a",
   "metadata": {},
   "outputs": [],
   "source": []
  },
  {
   "cell_type": "code",
   "execution_count": 16,
   "id": "d1f90dfa",
   "metadata": {},
   "outputs": [],
   "source": [
    "buttn6 = Button(root,text=\"6\" ,padx=40,pady=20,command=lambda : number_input(6)).grid(row=2, column= 0)"
   ]
  },
  {
   "cell_type": "code",
   "execution_count": 17,
   "id": "cdf34f36",
   "metadata": {},
   "outputs": [],
   "source": [
    "buttn5= Button(root,text=\"5\" ,padx=40,pady=20,command=lambda : number_input(5)).grid(row=2, column=1 )"
   ]
  },
  {
   "cell_type": "code",
   "execution_count": 18,
   "id": "4dcde7f1",
   "metadata": {},
   "outputs": [],
   "source": [
    "buttn4= Button(root,text=\"4\" ,padx=40,pady=20,command=lambda : number_input(4)).grid(row=2, column= 2)"
   ]
  },
  {
   "cell_type": "code",
   "execution_count": null,
   "id": "002319e5",
   "metadata": {},
   "outputs": [],
   "source": []
  },
  {
   "cell_type": "code",
   "execution_count": 19,
   "id": "af27c698",
   "metadata": {},
   "outputs": [],
   "source": [
    "buttn3 = Button(root,text=\"3\" ,padx=40,pady=20,command=lambda : number_input(3)).grid(row=3, column=0 )"
   ]
  },
  {
   "cell_type": "code",
   "execution_count": 20,
   "id": "978bc532",
   "metadata": {},
   "outputs": [],
   "source": [
    "buttn2 = Button(root,text=\"2\" ,padx=40,pady=20,command=lambda : number_input(2)).grid(row=3, column=1 )"
   ]
  },
  {
   "cell_type": "code",
   "execution_count": 21,
   "id": "bbbeea20",
   "metadata": {},
   "outputs": [],
   "source": [
    "buttn1 = Button(root,text=\"1\" ,padx=40,pady=20,command=lambda : number_input(1)).grid(row=3, column= 2)"
   ]
  },
  {
   "cell_type": "code",
   "execution_count": null,
   "id": "0969aea9",
   "metadata": {},
   "outputs": [],
   "source": []
  },
  {
   "cell_type": "code",
   "execution_count": 22,
   "id": "21d0fdee",
   "metadata": {},
   "outputs": [],
   "source": [
    "buttn0= Button(root,text=\"0\" ,padx=40,pady=20,command=lambda : number_input(0)).grid(row=4, column=0 )"
   ]
  },
  {
   "cell_type": "code",
   "execution_count": null,
   "id": "e1816b7f",
   "metadata": {},
   "outputs": [],
   "source": []
  },
  {
   "cell_type": "code",
   "execution_count": 23,
   "id": "d805ca55",
   "metadata": {},
   "outputs": [],
   "source": [
    "buttn_add= Button(root,text=\"+\" ,padx=40,pady=20,command=sum_of_values).grid(row=4, column=1 )"
   ]
  },
  {
   "cell_type": "code",
   "execution_count": 24,
   "id": "7d5673a7",
   "metadata": {},
   "outputs": [],
   "source": [
    "buttn_clear= Button(root,text=\"cls\" ,padx=40,pady=20,command=clear_values).grid(row=5, column=0 )"
   ]
  },
  {
   "cell_type": "code",
   "execution_count": 25,
   "id": "ee13f3a3",
   "metadata": {},
   "outputs": [],
   "source": [
    "buttn_equals= Button(root,text=\"=\" ,padx=40,pady=20,command=equals).grid(row=5, column=1)"
   ]
  },
  {
   "cell_type": "code",
   "execution_count": null,
   "id": "3f3f1b02",
   "metadata": {},
   "outputs": [],
   "source": [
    "root.mainloop()"
   ]
  },
  {
   "cell_type": "code",
   "execution_count": null,
   "id": "05a1c648",
   "metadata": {},
   "outputs": [],
   "source": []
  },
  {
   "cell_type": "code",
   "execution_count": null,
   "id": "31bd084e",
   "metadata": {},
   "outputs": [],
   "source": []
  },
  {
   "cell_type": "code",
   "execution_count": null,
   "id": "6d21ebe6",
   "metadata": {},
   "outputs": [],
   "source": []
  }
 ],
 "metadata": {
  "kernelspec": {
   "display_name": "Python 3 (ipykernel)",
   "language": "python",
   "name": "python3"
  },
  "language_info": {
   "codemirror_mode": {
    "name": "ipython",
    "version": 3
   },
   "file_extension": ".py",
   "mimetype": "text/x-python",
   "name": "python",
   "nbconvert_exporter": "python",
   "pygments_lexer": "ipython3",
   "version": "3.9.7"
  }
 },
 "nbformat": 4,
 "nbformat_minor": 5
}
